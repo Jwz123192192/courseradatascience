{
 "cells": [
  {
   "cell_type": "markdown",
   "id": "96ccdf01",
   "metadata": {},
   "source": [
    "# CourseraDataScience\n"
   ]
  },
  {
   "cell_type": "markdown",
   "id": "0e35123a",
   "metadata": {},
   "source": [
    "This notebook is summary of Data Science tools."
   ]
  },
  {
   "cell_type": "markdown",
   "id": "6af036aa",
   "metadata": {},
   "source": [
    "These are the data science languages:\n",
    "\n",
    "    1)Python\n",
    "    2)R\n",
    "    3)Java\n",
    "    4)C++\n",
    "    5)Julia\n",
    "    6)SQL\n",
    "    \n",
    "    "
   ]
  },
  {
   "cell_type": "markdown",
   "id": "7bdfd2d4",
   "metadata": {},
   "source": [
    "Some of the Data Science Libraries are:\n",
    "\n",
    "  1. NumPy\n",
    "  2. Pandas\n",
    "  3. Seaborn\n",
    "  4. Matplotlib\n",
    "  5. PyTorch\n",
    "  6. TenserFlow\n",
    "  7. sckit-learn  \n",
    "  8. ggplot\n",
    "  9. dplyr\n",
    "  10. caret\n",
    "  11. keras\n",
    "\n"
   ]
  },
  {
   "cell_type": "markdown",
   "id": "93a5447d",
   "metadata": {},
   "source": [
    "|Data Science Tools| \n",
    "|---|\n",
    "| Python | \n",
    "| Apache Spark | \n",
    "| R Studio | \n",
    "| Pandas | "
   ]
  },
  {
   "cell_type": "markdown",
   "id": "70bb9a3e",
   "metadata": {},
   "source": [
    "Arithmetic Expression Examples with Python"
   ]
  },
  {
   "cell_type": "code",
   "execution_count": 4,
   "id": "a38c6683",
   "metadata": {},
   "outputs": [
    {
     "data": {
      "text/plain": [
       "22"
      ]
     },
     "execution_count": 4,
     "metadata": {},
     "output_type": "execute_result"
    }
   ],
   "source": [
    "#this code cell is adding to numbers\n",
    "\n",
    "10+12\n"
   ]
  },
  {
   "cell_type": "code",
   "execution_count": 5,
   "id": "d287d16f",
   "metadata": {},
   "outputs": [
    {
     "data": {
      "text/plain": [
       "80"
      ]
     },
     "execution_count": 5,
     "metadata": {},
     "output_type": "execute_result"
    }
   ],
   "source": [
    "#this code cell is adding and multiplying two numbers\n",
    "\n",
    "(5+3)*10"
   ]
  },
  {
   "cell_type": "code",
   "execution_count": 6,
   "id": "447fa6c8",
   "metadata": {},
   "outputs": [
    {
     "data": {
      "text/plain": [
       "2.0"
      ]
     },
     "execution_count": 6,
     "metadata": {},
     "output_type": "execute_result"
    }
   ],
   "source": [
    "#this code cell is converting minutes to hours (120 min to hour)\n",
    "\n",
    "120/60"
   ]
  },
  {
   "cell_type": "markdown",
   "id": "c7cdce5e",
   "metadata": {},
   "source": [
    "__Objective__\n",
    "\n",
    "- Listing some of the popular data science languages\n",
    "- Using tables to introduce some of the data science tools\n",
    "- Using GitHub commands\n",
    "- Use some arithmetic expressions\n",
    "\n",
    "\n",
    "\n"
   ]
  },
  {
   "cell_type": "markdown",
   "id": "426e44fb",
   "metadata": {},
   "source": [
    "# Author\n",
    "\n",
    "Yıldırım Sayar"
   ]
  }
 ],
 "metadata": {
  "kernelspec": {
   "display_name": "Python 3 (ipykernel)",
   "language": "python",
   "name": "python3"
  },
  "language_info": {
   "codemirror_mode": {
    "name": "ipython",
    "version": 3
   },
   "file_extension": ".py",
   "mimetype": "text/x-python",
   "name": "python",
   "nbconvert_exporter": "python",
   "pygments_lexer": "ipython3",
   "version": "3.9.12"
  }
 },
 "nbformat": 4,
 "nbformat_minor": 5
}
